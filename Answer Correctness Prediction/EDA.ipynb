{
 "cells": [
  {
   "cell_type": "code",
   "execution_count": 183,
   "metadata": {},
   "outputs": [],
   "source": [
    "import numpy as np\n",
    "import pandas as pd\n",
    "import seaborn as sns\n",
    "import matplotlib.pyplot as plt\n",
    "import copy"
   ]
  },
  {
   "cell_type": "code",
   "execution_count": 155,
   "metadata": {},
   "outputs": [
    {
     "name": "stdout",
     "output_type": "stream",
     "text": [
      "(1000000, 10)\n"
     ]
    },
    {
     "data": {
      "text/html": [
       "<div>\n",
       "<style scoped>\n",
       "    .dataframe tbody tr th:only-of-type {\n",
       "        vertical-align: middle;\n",
       "    }\n",
       "\n",
       "    .dataframe tbody tr th {\n",
       "        vertical-align: top;\n",
       "    }\n",
       "\n",
       "    .dataframe thead th {\n",
       "        text-align: right;\n",
       "    }\n",
       "</style>\n",
       "<table border=\"1\" class=\"dataframe\">\n",
       "  <thead>\n",
       "    <tr style=\"text-align: right;\">\n",
       "      <th></th>\n",
       "      <th>row_id</th>\n",
       "      <th>timestamp</th>\n",
       "      <th>user_id</th>\n",
       "      <th>content_id</th>\n",
       "      <th>content_type_id</th>\n",
       "      <th>task_container_id</th>\n",
       "      <th>user_answer</th>\n",
       "      <th>answered_correctly</th>\n",
       "      <th>prior_question_elapsed_time</th>\n",
       "      <th>prior_question_had_explanation</th>\n",
       "    </tr>\n",
       "  </thead>\n",
       "  <tbody>\n",
       "    <tr>\n",
       "      <th>0</th>\n",
       "      <td>0</td>\n",
       "      <td>0</td>\n",
       "      <td>115</td>\n",
       "      <td>5692</td>\n",
       "      <td>0</td>\n",
       "      <td>1</td>\n",
       "      <td>3</td>\n",
       "      <td>1</td>\n",
       "      <td>NaN</td>\n",
       "      <td>&lt;NA&gt;</td>\n",
       "    </tr>\n",
       "    <tr>\n",
       "      <th>1</th>\n",
       "      <td>1</td>\n",
       "      <td>56943</td>\n",
       "      <td>115</td>\n",
       "      <td>5716</td>\n",
       "      <td>0</td>\n",
       "      <td>2</td>\n",
       "      <td>2</td>\n",
       "      <td>1</td>\n",
       "      <td>37000.0</td>\n",
       "      <td>False</td>\n",
       "    </tr>\n",
       "    <tr>\n",
       "      <th>2</th>\n",
       "      <td>2</td>\n",
       "      <td>118363</td>\n",
       "      <td>115</td>\n",
       "      <td>128</td>\n",
       "      <td>0</td>\n",
       "      <td>0</td>\n",
       "      <td>0</td>\n",
       "      <td>1</td>\n",
       "      <td>55000.0</td>\n",
       "      <td>False</td>\n",
       "    </tr>\n",
       "    <tr>\n",
       "      <th>3</th>\n",
       "      <td>3</td>\n",
       "      <td>131167</td>\n",
       "      <td>115</td>\n",
       "      <td>7860</td>\n",
       "      <td>0</td>\n",
       "      <td>3</td>\n",
       "      <td>0</td>\n",
       "      <td>1</td>\n",
       "      <td>19000.0</td>\n",
       "      <td>False</td>\n",
       "    </tr>\n",
       "    <tr>\n",
       "      <th>4</th>\n",
       "      <td>4</td>\n",
       "      <td>137965</td>\n",
       "      <td>115</td>\n",
       "      <td>7922</td>\n",
       "      <td>0</td>\n",
       "      <td>4</td>\n",
       "      <td>1</td>\n",
       "      <td>1</td>\n",
       "      <td>11000.0</td>\n",
       "      <td>False</td>\n",
       "    </tr>\n",
       "  </tbody>\n",
       "</table>\n",
       "</div>"
      ],
      "text/plain": [
       "   row_id  timestamp  user_id  content_id  content_type_id  task_container_id  \\\n",
       "0       0          0      115        5692                0                  1   \n",
       "1       1      56943      115        5716                0                  2   \n",
       "2       2     118363      115         128                0                  0   \n",
       "3       3     131167      115        7860                0                  3   \n",
       "4       4     137965      115        7922                0                  4   \n",
       "\n",
       "   user_answer  answered_correctly  prior_question_elapsed_time  \\\n",
       "0            3                   1                          NaN   \n",
       "1            2                   1                      37000.0   \n",
       "2            0                   1                      55000.0   \n",
       "3            0                   1                      19000.0   \n",
       "4            1                   1                      11000.0   \n",
       "\n",
       "   prior_question_had_explanation  \n",
       "0                            <NA>  \n",
       "1                           False  \n",
       "2                           False  \n",
       "3                           False  \n",
       "4                           False  "
      ]
     },
     "execution_count": 155,
     "metadata": {},
     "output_type": "execute_result"
    }
   ],
   "source": [
    "train = pd.read_csv(\"data/train.csv\", dtype={\n",
    "        'row_id': 'int64', \n",
    "        'timestamp': 'int64', \n",
    "        'user_id': 'int32', \n",
    "        'content_id': 'int16', \n",
    "        'content_type_id': 'int8',\n",
    "        'task_container_id': 'int16', \n",
    "        'user_answer': 'int8', \n",
    "        'answered_correctly': 'int8', \n",
    "        'prior_question_elapsed_time': 'float32', \n",
    "        'prior_question_had_explanation': 'boolean'\n",
    "    }, nrows=1000000)\n",
    "print(train.shape)\n",
    "train.head()"
   ]
  },
  {
   "cell_type": "code",
   "execution_count": 156,
   "metadata": {},
   "outputs": [
    {
     "data": {
      "text/html": [
       "<div>\n",
       "<style scoped>\n",
       "    .dataframe tbody tr th:only-of-type {\n",
       "        vertical-align: middle;\n",
       "    }\n",
       "\n",
       "    .dataframe tbody tr th {\n",
       "        vertical-align: top;\n",
       "    }\n",
       "\n",
       "    .dataframe thead th {\n",
       "        text-align: right;\n",
       "    }\n",
       "</style>\n",
       "<table border=\"1\" class=\"dataframe\">\n",
       "  <thead>\n",
       "    <tr style=\"text-align: right;\">\n",
       "      <th></th>\n",
       "      <th>row_id</th>\n",
       "      <th>group_num</th>\n",
       "      <th>timestamp</th>\n",
       "      <th>user_id</th>\n",
       "      <th>content_id</th>\n",
       "      <th>content_type_id</th>\n",
       "      <th>task_container_id</th>\n",
       "      <th>prior_question_elapsed_time</th>\n",
       "      <th>prior_question_had_explanation</th>\n",
       "      <th>prior_group_answers_correct</th>\n",
       "      <th>prior_group_responses</th>\n",
       "    </tr>\n",
       "  </thead>\n",
       "  <tbody>\n",
       "    <tr>\n",
       "      <th>0</th>\n",
       "      <td>0</td>\n",
       "      <td>0</td>\n",
       "      <td>0</td>\n",
       "      <td>275030867</td>\n",
       "      <td>5729</td>\n",
       "      <td>0</td>\n",
       "      <td>0</td>\n",
       "      <td>NaN</td>\n",
       "      <td>NaN</td>\n",
       "      <td>[]</td>\n",
       "      <td>[]</td>\n",
       "    </tr>\n",
       "    <tr>\n",
       "      <th>1</th>\n",
       "      <td>1</td>\n",
       "      <td>0</td>\n",
       "      <td>13309898705</td>\n",
       "      <td>554169193</td>\n",
       "      <td>12010</td>\n",
       "      <td>0</td>\n",
       "      <td>4427</td>\n",
       "      <td>19000.0</td>\n",
       "      <td>True</td>\n",
       "      <td>NaN</td>\n",
       "      <td>NaN</td>\n",
       "    </tr>\n",
       "    <tr>\n",
       "      <th>2</th>\n",
       "      <td>2</td>\n",
       "      <td>0</td>\n",
       "      <td>4213672059</td>\n",
       "      <td>1720860329</td>\n",
       "      <td>457</td>\n",
       "      <td>0</td>\n",
       "      <td>240</td>\n",
       "      <td>17000.0</td>\n",
       "      <td>True</td>\n",
       "      <td>NaN</td>\n",
       "      <td>NaN</td>\n",
       "    </tr>\n",
       "    <tr>\n",
       "      <th>3</th>\n",
       "      <td>3</td>\n",
       "      <td>0</td>\n",
       "      <td>62798072960</td>\n",
       "      <td>288641214</td>\n",
       "      <td>13262</td>\n",
       "      <td>0</td>\n",
       "      <td>266</td>\n",
       "      <td>23000.0</td>\n",
       "      <td>True</td>\n",
       "      <td>NaN</td>\n",
       "      <td>NaN</td>\n",
       "    </tr>\n",
       "    <tr>\n",
       "      <th>4</th>\n",
       "      <td>4</td>\n",
       "      <td>0</td>\n",
       "      <td>10585422061</td>\n",
       "      <td>1728340777</td>\n",
       "      <td>6119</td>\n",
       "      <td>0</td>\n",
       "      <td>162</td>\n",
       "      <td>72400.0</td>\n",
       "      <td>True</td>\n",
       "      <td>NaN</td>\n",
       "      <td>NaN</td>\n",
       "    </tr>\n",
       "  </tbody>\n",
       "</table>\n",
       "</div>"
      ],
      "text/plain": [
       "   row_id  group_num    timestamp     user_id  content_id  content_type_id  \\\n",
       "0       0          0            0   275030867        5729                0   \n",
       "1       1          0  13309898705   554169193       12010                0   \n",
       "2       2          0   4213672059  1720860329         457                0   \n",
       "3       3          0  62798072960   288641214       13262                0   \n",
       "4       4          0  10585422061  1728340777        6119                0   \n",
       "\n",
       "   task_container_id  prior_question_elapsed_time  \\\n",
       "0                  0                          NaN   \n",
       "1               4427                      19000.0   \n",
       "2                240                      17000.0   \n",
       "3                266                      23000.0   \n",
       "4                162                      72400.0   \n",
       "\n",
       "  prior_question_had_explanation prior_group_answers_correct  \\\n",
       "0                            NaN                          []   \n",
       "1                           True                         NaN   \n",
       "2                           True                         NaN   \n",
       "3                           True                         NaN   \n",
       "4                           True                         NaN   \n",
       "\n",
       "  prior_group_responses  \n",
       "0                    []  \n",
       "1                   NaN  \n",
       "2                   NaN  \n",
       "3                   NaN  \n",
       "4                   NaN  "
      ]
     },
     "execution_count": 156,
     "metadata": {},
     "output_type": "execute_result"
    }
   ],
   "source": [
    "test = pd.read_csv(\"data/example_test.csv\")\n",
    "test.head()"
   ]
  },
  {
   "cell_type": "markdown",
   "metadata": {},
   "source": [
    "## EDA"
   ]
  },
  {
   "cell_type": "code",
   "execution_count": 157,
   "metadata": {},
   "outputs": [
    {
     "data": {
      "text/plain": [
       "row_id                            0.000000\n",
       "timestamp                         0.000000\n",
       "user_id                           0.000000\n",
       "content_id                        0.000000\n",
       "content_type_id                   0.000000\n",
       "task_container_id                 0.000000\n",
       "user_answer                       0.000000\n",
       "answered_correctly                0.000000\n",
       "prior_question_elapsed_time       0.023723\n",
       "prior_question_had_explanation    0.003816\n",
       "dtype: float64"
      ]
     },
     "execution_count": 157,
     "metadata": {},
     "output_type": "execute_result"
    }
   ],
   "source": [
    "# 查看缺失值， 数据特征分析略，网站很清楚了，无类别分布不均衡的特征\n",
    "train.isnull().sum() / len(train)"
   ]
  },
  {
   "cell_type": "code",
   "execution_count": 158,
   "metadata": {},
   "outputs": [
    {
     "name": "stdout",
     "output_type": "stream",
     "text": [
      "row_id特征有: 1000000个不同的值\n",
      "timestamp特征有: 769357个不同的值\n",
      "user_id特征有: 3824个不同的值\n",
      "content_id特征有: 13320个不同的值\n",
      "content_type_id特征有: 2个不同的值\n",
      "task_container_id特征有: 7740个不同的值\n",
      "user_answer特征有: 5个不同的值\n",
      "answered_correctly特征有: 3个不同的值\n",
      "prior_question_elapsed_time特征有: 1659个不同的值\n",
      "prior_question_had_explanation特征有: 2个不同的值\n"
     ]
    }
   ],
   "source": [
    "# 查看各特征的unique values\n",
    "columns = ['row_id', 'timestamp', 'user_id', 'content_id', 'content_type_id',\n",
    "       'task_container_id', 'user_answer', 'answered_correctly',\n",
    "       'prior_question_elapsed_time', 'prior_question_had_explanation']\n",
    "\n",
    "for col in columns:\n",
    "    print(\"{}特征有: {}个不同的值\".format(col, train[col].nunique()))"
   ]
  },
  {
   "cell_type": "code",
   "execution_count": 159,
   "metadata": {},
   "outputs": [
    {
     "name": "stdout",
     "output_type": "stream",
     "text": [
      "answered_correctly             1.000000\n",
      "user_answer                    0.126721\n",
      "task_container_id              0.039130\n",
      "timestamp                      0.027571\n",
      "prior_question_elapsed_time    0.003251\n",
      "user_id                       -0.014776\n",
      "row_id                        -0.015589\n",
      "content_id                    -0.203327\n",
      "content_type_id               -0.438788\n",
      "Name: answered_correctly, dtype: float64\n"
     ]
    },
    {
     "data": {
      "text/plain": [
       "<matplotlib.axes._subplots.AxesSubplot at 0x2138c298e48>"
      ]
     },
     "execution_count": 159,
     "metadata": {},
     "output_type": "execute_result"
    },
    {
     "data": {
      "image/png": "[encoded data removed]",
      "text/plain": [
       "<Figure size 432x288 with 2 Axes>"
      ]
     },
     "metadata": {
      "needs_background": "light"
     },
     "output_type": "display_data"
    }
   ],
   "source": [
    "#划分数值特征和类别特征\n",
    "numerical_feat = ['row_id', 'timestamp', 'user_id', 'content_id', 'task_container_id', 'prior_question_elapsed_time']\n",
    "categorical_feat = ['content_type_id', 'user_answer', 'answered_correctly', 'prior_question_had_explanation']\n",
    "\n",
    "# 对数据进行特征相关性\n",
    "numeric = train[columns]\n",
    "print(numeric.corr()['answered_correctly'].sort_values(ascending=False)) # 各特征与回答正确与否的相关性\n",
    "sns.heatmap(numeric.corr()) # 各特征之间的相关性"
   ]
  },
  {
   "cell_type": "markdown",
   "metadata": {},
   "source": [
    "一组有意义的相关性较高的特征：\n",
    "\"task_container_id\" is correlated with the \"timestamp\".\n",
    "也许是某些特定question组合成的某个task_container_id总是出现在呈现给学生的题库的特定位置(基础题总是出现在头几道题)\n",
    "\n",
    "至于\"content_type_id\"和\"answered_correctly\"的负相关，我觉得是因为当content_type_id = 1(lecture)时, answered_correctly总为-1\n",
    "content_type_id: 0代表question, 1代表lecture."
   ]
  },
  {
   "cell_type": "markdown",
   "metadata": {},
   "source": [
    "### 分析特征根据timestamp的变化特点"
   ]
  },
  {
   "cell_type": "code",
   "execution_count": 229,
   "metadata": {},
   "outputs": [
    {
     "data": {
      "text/plain": [
       "Text(0, 0.5, 'mean value of answered_correctly')"
      ]
     },
     "execution_count": 229,
     "metadata": {},
     "output_type": "execute_result"
    },
    {
     "data": {
      "image/png": "[encoded data removed]",
      "text/plain": [
       "<Figure size 432x288 with 1 Axes>"
      ]
     },
     "metadata": {
      "needs_background": "light"
     },
     "output_type": "display_data"
    }
   ],
   "source": [
    "# 随着时间变化答题的准确度\n",
    "length = len(train)\n",
    "tmp_df = train[['timestamp', 'answered_correctly']].sort_values(by='timestamp', ascending=True)\n",
    "\n",
    "intervals = (tmp_df['timestamp'].max() - tmp_df['timestamp'].min()) / 500\n",
    "bins = list(np.arange(tmp_df['timestamp'].min() - 1, tmp_df['timestamp'].max(), intervals))\n",
    "df = pd.DataFrame(pd.cut(tmp_df['timestamp'], bins=bins))\n",
    "df['answered_correctly'] = tmp_df['answered_correctly']\n",
    "bins.pop()\n",
    "\n",
    "changes = np.array(df.groupby(\"timestamp\").agg(\"mean\"))\n",
    "plt.plot(bins, changes)\n",
    "plt.xlabel(\"timestamp\")\n",
    "plt.ylabel(\"mean value of answered_correctly\")"
   ]
  },
  {
   "cell_type": "markdown",
   "metadata": {},
   "source": [
    "随着时间增加，准确率略有提升但总体不太受影响"
   ]
  },
  {
   "cell_type": "code",
   "execution_count": 230,
   "metadata": {},
   "outputs": [
    {
     "data": {
      "text/plain": [
       "Text(0, 0.5, 'mean value of task_container_id')"
      ]
     },
     "execution_count": 230,
     "metadata": {},
     "output_type": "execute_result"
    },
    {
     "data": {
      "image/png": "[encoded data removed]",
      "text/plain": [
       "<Figure size 432x288 with 1 Axes>"
      ]
     },
     "metadata": {
      "needs_background": "light"
     },
     "output_type": "display_data"
    }
   ],
   "source": [
    "# 随着时间变化task_container_id的变化\n",
    "length = len(train)\n",
    "tmp_df = train[['timestamp', 'task_container_id']].sort_values(by='timestamp', ascending=True)\n",
    "\n",
    "intervals = (tmp_df['timestamp'].max() - tmp_df['timestamp'].min()) / 500\n",
    "bins = list(np.arange(tmp_df['timestamp'].min() - 1, tmp_df['timestamp'].max(), intervals))\n",
    "df = pd.DataFrame(pd.cut(tmp_df['timestamp'], bins=bins))\n",
    "df['task_container_id'] = tmp_df['task_container_id']\n",
    "bins.pop()\n",
    "\n",
    "changes = np.array(df.groupby(\"timestamp\").agg(\"mean\"))\n",
    "plt.plot(bins, changes)\n",
    "plt.xlabel(\"timestamp\")\n",
    "plt.ylabel(\"mean value of task_container_id\")"
   ]
  },
  {
   "cell_type": "markdown",
   "metadata": {},
   "source": [
    "题目似乎是按照相对固定的题号出现的呢~"
   ]
  },
  {
   "cell_type": "code",
   "execution_count": 231,
   "metadata": {},
   "outputs": [
    {
     "data": {
      "text/plain": [
       "Text(0, 0.5, 'mean value of prior_question_elapsed_time')"
      ]
     },
     "execution_count": 231,
     "metadata": {},
     "output_type": "execute_result"
    },
    {
     "data": {
      "image/png": "[encoded data removed]",
      "text/plain": [
       "<Figure size 432x288 with 1 Axes>"
      ]
     },
     "metadata": {
      "needs_background": "light"
     },
     "output_type": "display_data"
    }
   ],
   "source": [
    "# 随着时间变化prior_question_elapsed_time的变化\n",
    "length = len(train)\n",
    "tmp_df = train[['timestamp', 'prior_question_elapsed_time']].sort_values(by='timestamp', ascending=True)\n",
    "\n",
    "intervals = (tmp_df['timestamp'].max() - tmp_df['timestamp'].min()) / 500\n",
    "bins = list(np.arange(tmp_df['timestamp'].min() - 1, tmp_df['timestamp'].max(), intervals))\n",
    "df = pd.DataFrame(pd.cut(tmp_df['timestamp'], bins=bins))\n",
    "df['prior_question_elapsed_time'] = tmp_df['prior_question_elapsed_time']\n",
    "bins.pop()\n",
    "\n",
    "changes = np.array(df.groupby(\"timestamp\").agg(\"mean\"))\n",
    "plt.plot(bins, changes)\n",
    "plt.xlabel(\"timestamp\")\n",
    "plt.ylabel(\"mean value of prior_question_elapsed_time\")"
   ]
  },
  {
   "cell_type": "markdown",
   "metadata": {},
   "source": [
    "题目做久了做题时间略有增加，但似乎也没想着着急提交"
   ]
  },
  {
   "cell_type": "markdown",
   "metadata": {},
   "source": [
    "### 分析特征根据user_id的变化特点"
   ]
  },
  {
   "cell_type": "code",
   "execution_count": 178,
   "metadata": {},
   "outputs": [
    {
     "name": "stdout",
     "output_type": "stream",
     "text": [
      "       task_container_id\n",
      "count        3824.000000\n",
      "mean          261.506276\n",
      "std           707.047994\n",
      "min             1.000000\n",
      "25%            30.000000\n",
      "50%            41.500000\n",
      "75%           158.250000\n",
      "max         10826.000000\n"
     ]
    },
    {
     "data": {
      "text/plain": [
       "array([[<matplotlib.axes._subplots.AxesSubplot object at 0x000002139C274088>]],\n",
       "      dtype=object)"
      ]
     },
     "execution_count": 178,
     "metadata": {},
     "output_type": "execute_result"
    },
    {
     "data": {
      "image/png": "[encoded data removed]",
      "text/plain": [
       "<Figure size 432x288 with 1 Axes>"
      ]
     },
     "metadata": {
      "needs_background": "light"
     },
     "output_type": "display_data"
    }
   ],
   "source": [
    "# user_id的答题数量分布\n",
    "user_task_df = train.groupby(\"user_id\").agg({\"task_container_id\": \"count\"})\n",
    "print(user_task_df.describe())\n",
    "user_task_df.hist(bins=100)"
   ]
  },
  {
   "cell_type": "markdown",
   "metadata": {},
   "source": [
    "将近一半人做题数量不足50题"
   ]
  },
  {
   "cell_type": "code",
   "execution_count": 181,
   "metadata": {},
   "outputs": [
    {
     "name": "stdout",
     "output_type": "stream",
     "text": [
      "        timestamp\n",
      "count    0.000044\n",
      "mean    61.929512\n",
      "std    124.010474\n",
      "min      0.000000\n",
      "25%      0.013075\n",
      "50%      4.055391\n",
      "75%     58.223320\n",
      "max    903.842553\n"
     ]
    },
    {
     "data": {
      "text/plain": [
       "array([[<matplotlib.axes._subplots.AxesSubplot object at 0x000002139C855588>]],\n",
       "      dtype=object)"
      ]
     },
     "execution_count": 181,
     "metadata": {},
     "output_type": "execute_result"
    },
    {
     "data": {
      "image/png": "[encoded data removed]",
      "text/plain": [
       "<Figure size 432x288 with 1 Axes>"
      ]
     },
     "metadata": {
      "needs_background": "light"
     },
     "output_type": "display_data"
    }
   ],
   "source": [
    "# user_id使用软件时长分布\n",
    "user_task_df = train.groupby(\"user_id\").agg({\"timestamp\": \"max\"})\n",
    "print(user_task_df.describe() /(1000 * 3600 * 24))\n",
    "user_task_df.hist(bins=100)"
   ]
  },
  {
   "cell_type": "markdown",
   "metadata": {},
   "source": [
    "一般用户使用软件仅能坚持4天，居然有人恐怖得坚持了900天。。。"
   ]
  },
  {
   "cell_type": "code",
   "execution_count": 273,
   "metadata": {},
   "outputs": [
    {
     "name": "stdout",
     "output_type": "stream",
     "text": [
      "正确率最高的用户 {8284166, 16461833, 18673677, 18464784, 7378974, 19040288, 15863849, 12634156, 16005177, 1546298, 20013125, 1544271, 5367887, 5103696, 15388756, 15632472, 14944351, 20566119, 9199721, 6430826, 17645675, 9322612, 8859766, 20787321, 17582209, 8007810, 7051394, 19087497, 10025098, 19376267, 9904267, 11276433, 3637398, 7428249, 19843227, 10135708, 1298591, 1724578, 15093922, 3254436, 7661733, 18045095, 1962155, 1880240, 8786105, 4368578, 14842055, 3897551, 11817171, 11610328, 7358682, 16314590, 12982499, 17397989, 10580203, 9361644, 2212092, 8124670, 16240897, 3838215, 459017, 2963722, 15892752, 1024273, 12579104, 2953506, 12110119, 15343921, 20566324, 3914038, 9658680, 3502397, 19024189, 12730696, 4479305, 13637966, 2738513, 16537938, 1534292, 8208725, 5161303, 2718040, 10115419, 8425831, 2695529, 2136430, 7305583, 18190705, 3676531, 15182202, 8419707, 6566272, 7774594, 18225541, 2724232, 9656713, 7807373, 17019278, 6846873, 16202138, 3242395, 2916765, 15253920, 4108706, 7788970, 16875949, 5194169, 2861500, 4663746, 17174979, 6398411, 7295437, 4420052, 15196633, 8200669, 19655135, 3551713, 20828645, 16697832, 6699502, 7320054, 107002, 7854588, 1102335, 14729728, 20439555, 7635465, 11280905, 8389134, 17891855, 14701077, 1282581, 18971157, 4669973, 1440282, 2134565, 3539494, 19190311, 18926117, 12444197, 3574310, 14551589, 20574764, 9863727, 5587504, 13378104, 9245248, 17361474, 3279438, 1581647, 15483471, 15913550, 14162518, 4205142, 9484888, 11463260, 2722402, 7172707, 17267302, 15923815, 9970282, 12978796, 1772157, 17898120, 18242186, 7475858, 8434326, 13902487, 12010144, 20681379, 12847787, 2677424, 7953073, 7533242, 408250, 10402493, 3392192, 7250625, 6947522, 2489029, 18842314, 4401867, 17994455, 3216089, 19014366, 10140382, 14453470, 14557921, 9011935, 16974563, 16749302, 8057592, 12571386, 2990844, 16182017, 9628421, 3916557, 3734286, 11539214, 7496465, 12616469, 11301660, 7512865, 766758, 1927975, 15815467, 19774261, 381754, 8760124, 16753469, 19712832, 2370369, 14670656, 637773, 17947484, 3228511, 17742705, 18467698, 18600822, 4465529, 4203387, 9063293, 11934592, 19811211, 9993113, 9309082, 1084314, 4533159, 12213160, 4088746, 6679467, 6347696, 9882546, 11705275, 859071, 18860992, 20693956, 17112007, 1272775, 15948745, 15244238, 6659026, 15375317, 14906326, 13097961, 13063148, 19543021, 3312620, 15668208, 2034673, 9425912, 8188935, 20120584, 7889927, 11820045, 11938837, 2808857, 15961123, 9681956, 19993637, 298022, 13378598, 19848230, 7617577, 3916843, 6028332, 20251692, 20710448, 6550576, 2026545, 4348980, 8578103, 1375288, 11011129, 10568762, 4222014, 1733698, 20171850, 14144587, 4500555, 10660947, 20141146, 1260634, 1379421, 5373028, 12303461, 4109418, 220268, 11736174, 17683577, 13501567, 2354314, 2122895, 11271313, 4990101, 9172123, 10110118, 4222121, 15019179, 13923501, 14273713, 10351805, 99521, 17212609, 1567938, 13192390, 11447494, 496840, 10208459, 16266444, 19199181, 12723408, 13452504, 1232090, 13298911, 650467, 15039720, 4992232, 7408877, 13823217, 8844531, 10056955, 14855424, 14998785, 18824449, 16864519, 7968011, 8742163, 7601432, 3126556, 5545246, 3646751, 7093539, 5975334, 19707178, 11461931, 275762, 2678068, 9692477, 1244479, 14417217, 16782657, 11814217, 12141902, 15631705, 1283420, 13331805, 18804064, 12541283, 12766567, 6491507, 20755830, 12463480, 11990398, 19219844, 12420488, 513434, 14345627, 2252190, 6753706, 11402667, 6208940, 11615662, 9471413, 14505398, 3929529, 5666234, 19488190, 18271687, 4306379, 2067931, 16610779, 3218907, 9481696, 16002528, 1820155, 4496897, 14716430, 3550735, 20227611, 20389410, 9340451, 13190690, 5529131, 19865132, 10237486, 2446896, 4146738, 7665202, 17045043, 2223671, 13770295, 2612798, 14915135, 10905154, 19914308, 19971658, 14427726, 9741902, 7472728, 4980312, 18232935, 13313641, 13928043, 12463724, 13821552, 14253685, 17755766, 5768827, 11257470, 17170047, 4028031, 10628740, 17258119, 13139593, 6266505, 9660056, 4421282, 17272483, 2211492, 16416427, 3276462, 10874551, 18845371, 20180673, 6637249, 2019012, 13604549, 2727628, 1838802, 6475477, 18937567, 6139623, 8890087, 9295594, 19345132, 7929581, 18192110, 6205167, 19846896, 2967284, 16672500, 18775798, 19836663, 14718712, 11681542, 108310, 20811545, 17438492, 814879, 11020066, 13674276, 7528236, 2641711, 16588593, 3686194, 3180340, 2418486, 13475643, 18194237, 6270786, 12019527, 20381512, 13322055, 11579218, 6002516, 20322136, 19973981, 10069858, 4396904, 17706857, 16631667, 3972985, 583550, 17762176, 8542106, 6680475, 12126109, 14546847, 9635750, 12951464, 15558573, 4607918, 17883065, 9043901, 8718272, 9775045, 13846472, 10938316, 6979538, 6936541, 20180962, 8843234, 20674536, 3551211, 2478069, 6932476, 5294077, 11257854, 17846271}\n"
     ]
    }
   ],
   "source": [
    "# 利用答题正确率筛选一下优秀用户\n",
    "score_correct_df = copy.deepcopy(train[[\"user_id\", \"answered_correctly\"]])\n",
    "\n",
    "score_correct_df = score_correct_df[score_correct_df[\"answered_correctly\"] != -1]# 筛去content为lecture\n",
    "corret_rate_df = pd.DataFrame(score_correct_df.groupby(\"user_id\").sum()\n",
    "           / score_correct_df.groupby(\"user_id\").count()).sort_values(by=\"answered_correctly\", ascending=False)\n",
    "\n",
    "best_correct_rate_users = set(corret_rate_df[: 500].index)\n",
    "print(\"正确率最高的用户\", best_correct_rate_users)"
   ]
  },
  {
   "cell_type": "code",
   "execution_count": 274,
   "metadata": {},
   "outputs": [
    {
     "name": "stdout",
     "output_type": "stream",
     "text": [
      "做题数最多的用户 {5941252, 4734982, 8284166, 9793549, 18673677, 8450063, 15052813, 13907981, 5087251, 12793875, 20172821, 2547741, 16590885, 3270696, 6146089, 4417578, 12718123, 1533993, 7792680, 12290099, 15622198, 6588478, 2433088, 10229827, 4964431, 5103696, 15388756, 18051158, 17025111, 15632472, 12273755, 11702371, 712805, 20566119, 9199721, 16586857, 17645675, 20895849, 8855664, 1534072, 20787321, 10860665, 17741947, 19935354, 9863292, 5365886, 7051394, 141455, 7166099, 9373844, 3637398, 15956125, 15093922, 3254436, 12497062, 18122922, 2121898, 1962155, 8087726, 1108148, 7964858, 9187517, 20646079, 9498821, 20123845, 19771602, 11817171, 4135123, 11610328, 7358682, 16314590, 5521635, 3680487, 7876847, 8534262, 19441925, 3838215, 459017, 1024273, 16181535, 3016994, 13822254, 18643247, 12730696, 13637966, 16537938, 11637089, 7305583, 8419707, 12439940, 10353031, 2724232, 1765772, 7807373, 1657235, 9097620, 2916765, 11084192, 16253345, 4108706, 15669681, 8567217, 8808883, 10611132, 4663746, 17174979, 11899332, 20814286, 15196633, 4508124, 10686940, 19655135, 20828645, 6177254, 6699502, 15903215, 7594484, 7756277, 107002, 1255931, 1186307, 3459591, 7635465, 8389134, 1282581, 18971157, 14701077, 1440282, 15428124, 18713116, 17504797, 8421928, 4170283, 20574764, 5587504, 5712442, 3559994, 17361474, 15913550, 18586193, 14162518, 9484888, 2722402, 12440162, 9970282, 1989232, 686708, 7610997, 17771134, 11809406, 15544970, 5321356, 3824269, 6857368, 11412125, 10631838, 2265761, 5819047, 12847787, 13288121, 7533242, 15385275, 408250, 7250625, 13155010, 13550278, 18389702, 4401867, 9521869, 11815631, 18516689, 14453470, 9011935, 16065258, 975595, 15960812, 13699824, 16749302, 16182017, 10984198, 9388809, 12284682, 11539214, 18627342, 17140496, 9415448, 15870746, 4774691, 8997668, 5243685, 18619175, 17609512, 15815467, 19299125, 9052984, 15956793, 5491525, 166728, 3783498, 15330125, 13134, 11801423, 19581779, 3228511, 14355305, 11627372, 1409904, 17742705, 18467698, 359283, 18443125, 18600822, 11496316, 9063293, 16728960, 7633793, 8952710, 1084314, 9309082, 4324252, 4533159, 12213160, 7783335, 6685611, 19444654, 9882546, 20835265, 20693956, 10163142, 1272775, 2417607, 11324360, 7996363, 15244238, 18789336, 12917733, 3918822, 7275497, 8270826, 6163436, 15668208, 2034673, 18654203, 1864702, 14760959, 20120584, 18732043, 16636942, 11938837, 15961123, 9346084, 19848230, 2026545, 4498487, 5596216, 16675896, 9339963, 3920956, 7511104, 18187337, 20171850, 91216, 19799120, 5659730, 4109418, 220268, 4037741, 2210934, 13501567, 5923971, 5401739, 6935697, 11271313, 4990101, 9172123, 16616604, 4125853, 6610089, 4222121, 12172461, 13923501, 10337457, 19489973, 1707189, 16909496, 9462971, 14210237, 2041025, 1567938, 13192390, 16213191, 496840, 12723408, 6812883, 13126869, 13298911, 1959138, 650467, 18140387, 16159973, 4740322, 4992232, 17906931, 7470324, 15434997, 10704123, 8742163, 9772309, 11445527, 12338457, 19981595, 19160349, 16932125, 5975334, 6413607, 20159786, 19948843, 13786415, 19594546, 275762, 13786420, 2678068, 15410502, 19723592, 5289290, 9721167, 9047380, 15631705, 1283420, 18804064, 9129314, 2499940, 2090341, 11337066, 14765419, 5440876, 14259564, 20497773, 1807727, 11038066, 6491507, 4877689, 11404670, 11990398, 16715137, 3538306, 16326027, 13149581, 138650, 12488090, 15805851, 3233182, 2252190, 478631, 19629488, 9678259, 12461492, 11888053, 15963574, 9471413, 13383099, 7300544, 2891201, 4306379, 19340747, 2500046, 10223055, 12207568, 11910614, 5397974, 13426135, 1996246, 19944922, 3218907, 12430812, 12242396, 9481696, 15441391, 5989871, 14585331, 17098229, 9186826, 20938253, 14716430, 19697166, 8994317, 3550735, 18789909, 20553239, 4486679, 9356823, 2659874, 20041252, 3749425, 15730228, 14442037, 2721338, 5000764, 2475583, 4742725, 3892809, 19971658, 7876172, 4980312, 14138972, 8576608, 16463460, 15599209, 9150059, 13928043, 11316849, 8552051, 17923708, 7171715, 11800197, 15894154, 11421326, 4421282, 2035363, 2211492, 14087849, 14909098, 7792299, 19142316, 5367469, 6004395, 19381937, 18151090, 16322227, 4357812, 12834484, 14657204, 3098296, 11468474, 1214143, 6637249, 6475477, 4298473, 384745, 8558315, 12226292, 14386932, 19836663, 9418512, 5541659, 5986081, 2393889, 7063331, 13674276, 13643556, 10985252, 4288302, 3036976, 15556401, 3180340, 13475643, 19345231, 15568723, 17082200, 11106142, 15191905, 24418, 6254437, 2891629, 16631667, 3972985, 11609977, 18632583, 9232263, 475020, 20719506, 17981331, 20897683, 4022163, 13447062, 6680475, 12126109, 14546847, 6201249, 3624867, 13846472, 19492810, 15278027, 10938316, 10616781, 20365261, 10047443, 17842132, 14172119, 3499996, 8843234, 15103971, 14387176, 1028074, 18655211, 3551211, 2559982, 18339827, 12089333, 10018807}\n"
     ]
    }
   ],
   "source": [
    "# 利用做题数量筛选一下优秀用户\n",
    "task_number_df = copy.deepcopy(train[[\"user_id\", \"task_container_id\"]])\n",
    "\n",
    "df = pd.DataFrame(task_number_df.groupby(\"user_id\").count()).sort_values(by=\"task_container_id\", ascending=False)\n",
    "most_task_number_users = set(df[: 500].index)\n",
    "print(\"做题数最多的用户\", most_task_number_users)"
   ]
  },
  {
   "cell_type": "code",
   "execution_count": 275,
   "metadata": {},
   "outputs": [
    {
     "name": "stdout",
     "output_type": "stream",
     "text": [
      "使用软件时间最长的用户 {15757313, 11161602, 18673677, 13907981, 8450063, 12793875, 4624404, 20172821, 20543516, 15099932, 1533993, 12718123, 17412142, 12290099, 6996029, 9322570, 4964431, 17025111, 12273755, 11702371, 2627685, 20566119, 17045609, 3297385, 2726001, 14284916, 20787321, 19935354, 10860665, 17741947, 5365886, 839808, 7051394, 10379395, 2257029, 16001159, 9373844, 3637398, 13328543, 18774176, 1724578, 12497062, 18122922, 1962155, 2121898, 8087726, 18802864, 12671153, 1108148, 11450549, 8786105, 9187517, 9498821, 15216842, 19771602, 4135123, 20312279, 11610328, 5521635, 13285606, 3680487, 12644586, 8745203, 8534262, 2019581, 19441925, 14491910, 3838215, 16316678, 15812898, 20521275, 2601277, 13637966, 16537938, 4247900, 17664352, 20615524, 7305583, 2799989, 10873212, 13277570, 7774594, 19691910, 9097620, 6556061, 8061341, 6164893, 11084192, 13638051, 7825839, 8808883, 4663746, 17174979, 4719044, 6078930, 4508124, 19655135, 8858084, 6431206, 6935015, 6619628, 6699502, 15903215, 4727295, 14729728, 653826, 8002053, 16376325, 3459591, 13005318, 385548, 4061710, 1282581, 3392024, 1440282, 18713116, 19694111, 3093025, 8421928, 4170283, 20574764, 19831344, 13822515, 1219129, 5712442, 8170062, 15913550, 18586193, 12454482, 10814043, 10805871, 1989232, 11047546, 6972036, 3824269, 13322901, 11412125, 11823773, 19610278, 5386918, 5819047, 12847787, 20802230, 408250, 15385275, 19737276, 7207616, 7250625, 4401867, 9521869, 11815631, 12380882, 20472541, 9011935, 18424547, 20077283, 15960812, 4780783, 13699824, 16749302, 16182017, 2226945, 10029828, 5954309, 10984198, 9388809, 14551818, 12284682, 1618701, 11539214, 7496465, 1524501, 1674014, 16323365, 15815467, 7029547, 19772206, 16292657, 6804274, 9896756, 19299125, 983864, 15956793, 5491525, 166728, 15330125, 13134, 19581779, 8723283, 8328032, 11326306, 1551204, 16012132, 359283, 18600822, 11930486, 20628343, 4465529, 1606522, 9063293, 2073472, 3580801, 16728960, 15795083, 13519761, 9993113, 1084314, 7783335, 4533159, 8211372, 9882546, 19997619, 2546612, 859071, 10163142, 18789336, 5241824, 3918822, 7275497, 13097961, 6163436, 15668208, 2034673, 19971057, 15709171, 12217333, 13689849, 18654203, 1864702, 11938837, 8494112, 20311084, 11312175, 4498487, 5596216, 16675896, 9442359, 9339963, 4711487, 3505219, 18187337, 4500555, 19799120, 91216, 5659730, 3910741, 11066454, 1379421, 15637600, 12069985, 18807908, 5373028, 220268, 4037741, 5219438, 480368, 20067445, 2210934, 13501567, 13685887, 8914051, 5401739, 7586958, 11271313, 6935697, 9172123, 4125853, 2116773, 6610089, 3157163, 13923501, 12172461, 12530864, 19489973, 1707189, 1121464, 4508865, 1567938, 2041025, 6100175, 12723408, 6812883, 13298911, 16159973, 4992232, 3400938, 13565165, 7470324, 15434997, 16864519, 6798601, 20251914, 16624907, 11445527, 16932125, 8377631, 10442024, 4496682, 19948843, 5268779, 2315569, 275762, 13786420, 14789941, 2381110, 20122937, 14417217, 15410502, 9760073, 5002570, 18894155, 18933073, 1283420, 2090341, 12397925, 11337066, 4887915, 20497773, 11038066, 2026867, 238966, 20755830, 8191353, 9293178, 3259772, 6047100, 9534847, 10071431, 2362760, 14347673, 138650, 6288794, 11623840, 18431395, 478631, 6753706, 15248816, 19629488, 9678259, 12461492, 9471413, 15963574, 13383099, 7300544, 4226501, 15117770, 4306379, 10223055, 11826644, 11535829, 5397974, 11910614, 13657564, 2874845, 14349792, 5705191, 1308136, 286187, 15441391, 5989871, 14585331, 17098229, 16797177, 10305024, 17726976, 9186826, 7656972, 8994317, 15699470, 3550735, 19697166, 8523281, 18789909, 9356823, 4486679, 15560223, 2659874, 20389410, 16926247, 19508780, 5766705, 3749425, 13223476, 14442037, 2201142, 14102069, 2475583, 14820927, 19582529, 19914308, 19971658, 16154188, 2686542, 7472728, 14138972, 12138080, 5832290, 15599209, 9150059, 12463724, 382571, 8048242, 15238770, 11581045, 11155063, 19512953, 17923708, 7865982, 4028031, 7171715, 2524804, 4650630, 17258119, 11421326, 15466130, 12689054, 4828831, 16301731, 3737252, 1904297, 7792299, 5367469, 18151090, 16322227, 12834484, 18382516, 14657204, 4357812, 3098296, 4058809, 11468474, 13604549, 7231173, 5443276, 4298473, 9295594, 10229483, 15640300, 384745, 12226292, 16672500, 13551353, 9402121, 9418512, 3901202, 3311379, 5541659, 17438492, 5986081, 2393889, 10086180, 13643556, 46886, 5615405, 4288302, 3036976, 3686194, 9635638, 19926843, 19476285, 4161343, 19345231, 11106142, 19558239, 17923935, 15191905, 6254437, 2891629, 6606704, 3833713, 16119667, 11609977, 12957562, 9232263, 20719506, 13447062, 6680475, 4259742, 15794079, 15978400, 10178469, 2066347, 13109171, 17883065, 8449981, 9361346, 1980358, 13719495, 9680838, 15278027, 10616781, 17190864, 6979538, 10047443, 17842132, 8843234, 17334252, 18339827, 19050484, 7911417}\n"
     ]
    }
   ],
   "source": [
    "# 利用使用软件时间筛选一下优秀用户\n",
    "duration_df = copy.deepcopy(train[[\"user_id\", \"timestamp\"]])\n",
    "\n",
    "df = pd.DataFrame(duration_df.groupby(\"user_id\").max()).sort_values(by=\"timestamp\", ascending=False)\n",
    "longest_duration_users = set(df[: 500].index)\n",
    "print(\"使用软件时间最长的用户\", longest_duration_users)"
   ]
  },
  {
   "cell_type": "code",
   "execution_count": 300,
   "metadata": {},
   "outputs": [
    {
     "data": {
      "text/html": [
       "<div>\n",
       "<style scoped>\n",
       "    .dataframe tbody tr th:only-of-type {\n",
       "        vertical-align: middle;\n",
       "    }\n",
       "\n",
       "    .dataframe tbody tr th {\n",
       "        vertical-align: top;\n",
       "    }\n",
       "\n",
       "    .dataframe thead th {\n",
       "        text-align: right;\n",
       "    }\n",
       "</style>\n",
       "<table border=\"1\" class=\"dataframe\">\n",
       "  <thead>\n",
       "    <tr style=\"text-align: right;\">\n",
       "      <th></th>\n",
       "      <th>task_container_id</th>\n",
       "    </tr>\n",
       "  </thead>\n",
       "  <tbody>\n",
       "    <tr>\n",
       "      <th>count</th>\n",
       "      <td>53.000000</td>\n",
       "    </tr>\n",
       "    <tr>\n",
       "      <th>mean</th>\n",
       "      <td>2165.566038</td>\n",
       "    </tr>\n",
       "    <tr>\n",
       "      <th>std</th>\n",
       "      <td>1837.553375</td>\n",
       "    </tr>\n",
       "    <tr>\n",
       "      <th>min</th>\n",
       "      <td>426.000000</td>\n",
       "    </tr>\n",
       "    <tr>\n",
       "      <th>25%</th>\n",
       "      <td>709.000000</td>\n",
       "    </tr>\n",
       "    <tr>\n",
       "      <th>50%</th>\n",
       "      <td>1527.000000</td>\n",
       "    </tr>\n",
       "    <tr>\n",
       "      <th>75%</th>\n",
       "      <td>2508.000000</td>\n",
       "    </tr>\n",
       "    <tr>\n",
       "      <th>max</th>\n",
       "      <td>7569.000000</td>\n",
       "    </tr>\n",
       "  </tbody>\n",
       "</table>\n",
       "</div>"
      ],
      "text/plain": [
       "       task_container_id\n",
       "count          53.000000\n",
       "mean         2165.566038\n",
       "std          1837.553375\n",
       "min           426.000000\n",
       "25%           709.000000\n",
       "50%          1527.000000\n",
       "75%          2508.000000\n",
       "max          7569.000000"
      ]
     },
     "execution_count": 300,
     "metadata": {},
     "output_type": "execute_result"
    }
   ],
   "source": [
    "#取三个标准下的交集就是最好的用户\n",
    "best_users = list(best_correct_rate_users & most_task_number_users & longest_duration_users)\n",
    "best_users_df = train[train[\"user_id\"].isin(best_users)]\n",
    "best_users_df.groupby(\"user_id\").agg({\"task_container_id\": \"count\"}).describe()"
   ]
  },
  {
   "cell_type": "markdown",
   "metadata": {},
   "source": [
    "优秀的学生50%的人能做到1500题，大多数能做到700题以上"
   ]
  },
  {
   "cell_type": "markdown",
   "metadata": {},
   "source": [
    "### 分析特征根据content_id的变化特点"
   ]
  },
  {
   "cell_type": "code",
   "execution_count": 315,
   "metadata": {},
   "outputs": [
    {
     "data": {
      "text/plain": [
       "<matplotlib.axes._subplots.AxesSubplot at 0x213bc396148>"
      ]
     },
     "execution_count": 315,
     "metadata": {},
     "output_type": "execute_result"
    },
    {
     "data": {
      "image/png": "[encoded data removed]",
      "text/plain": [
       "<Figure size 432x288 with 1 Axes>"
      ]
     },
     "metadata": {
      "needs_background": "light"
     },
     "output_type": "display_data"
    }
   ],
   "source": [
    "#不同问题的出现频次\n",
    "content_df = copy.deepcopy(train[train[\"answered_correctly\"] != -1]) # 筛选掉lectures\n",
    "grouped_by_content_df = content_df.groupby(\"content_id\").agg({\"answered_correctly\": ['mean', 'count'] })\n",
    "\n",
    "grouped_by_content_df[('answered_correctly','count')].hist(bins=100)"
   ]
  },
  {
   "cell_type": "markdown",
   "metadata": {},
   "source": [
    "大部分题目出现在200次以内"
   ]
  },
  {
   "cell_type": "code",
   "execution_count": 316,
   "metadata": {},
   "outputs": [
    {
     "data": {
      "text/plain": [
       "<matplotlib.axes._subplots.AxesSubplot at 0x213c9997648>"
      ]
     },
     "execution_count": 316,
     "metadata": {},
     "output_type": "execute_result"
    },
    {
     "data": {
      "image/png": "[encoded data removed]",
      "text/plain": [
       "<Figure size 432x288 with 1 Axes>"
      ]
     },
     "metadata": {
      "needs_background": "light"
     },
     "output_type": "display_data"
    }
   ],
   "source": [
    "#不同问题的难度\n",
    "grouped_by_content_df[('answered_correctly','mean')].hist(bins=100)"
   ]
  },
  {
   "cell_type": "markdown",
   "metadata": {},
   "source": [
    "少部分题目正确率相当高，总体和实际情况相符"
   ]
  },
  {
   "cell_type": "code",
   "execution_count": 319,
   "metadata": {},
   "outputs": [
    {
     "data": {
      "text/plain": [
       "<matplotlib.axes._subplots.AxesSubplot at 0x2139c2dbc48>"
      ]
     },
     "execution_count": 319,
     "metadata": {},
     "output_type": "execute_result"
    },
    {
     "data": {
      "image/png": "[encoded data removed]",
      "text/plain": [
       "<Figure size 432x288 with 1 Axes>"
      ]
     },
     "metadata": {
      "needs_background": "light"
     },
     "output_type": "display_data"
    }
   ],
   "source": [
    "#高频题的难度情况(出现100次以上)\n",
    "grouped_by_content_df[grouped_by_content_df[('answered_correctly','count')]>100][('answered_correctly','mean')].hist(bins = 100)"
   ]
  },
  {
   "cell_type": "code",
   "execution_count": null,
   "metadata": {},
   "outputs": [],
   "source": [
    "后面可以清洗一下少量含nan的数据，再变换一下某些数据，再特征选择"
   ]
  }
 ],
 "metadata": {
  "kernelspec": {
   "display_name": "Python 3",
   "language": "python",
   "name": "python3"
  },
  "language_info": {
   "codemirror_mode": {
    "name": "ipython",
    "version": 3
   },
   "file_extension": ".py",
   "mimetype": "text/x-python",
   "name": "python",
   "nbconvert_exporter": "python",
   "pygments_lexer": "ipython3",
   "version": "3.7.6"
  },
  "toc": {
   "base_numbering": 1,
   "nav_menu": {},
   "number_sections": true,
   "sideBar": true,
   "skip_h1_title": false,
   "title_cell": "Table of Contents",
   "title_sidebar": "Contents",
   "toc_cell": false,
   "toc_position": {},
   "toc_section_display": true,
   "toc_window_display": false
  }
 },
 "nbformat": 4,
 "nbformat_minor": 4
}
